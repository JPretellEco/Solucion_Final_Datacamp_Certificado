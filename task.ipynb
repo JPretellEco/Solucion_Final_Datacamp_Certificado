{
 "cells": [
  {
   "cell_type": "markdown",
   "id": "09afaeb9",
   "metadata": {},
   "source": [
    "\n",
    "---\n",
    "\n",
    "# Examen Práctico: Ventas de Casas\n",
    "\n",
    "**RealAgents** es una empresa inmobiliaria que se centra en la venta de casas.\n",
    "\n",
    "RealAgents vende una variedad de tipos de viviendas en una misma área metropolitana.\n",
    "\n",
    "Algunas casas se venden lentamente y, en ocasiones, es necesario reducir el precio para encontrar un comprador.\n",
    "\n",
    "Con el fin de mantenerse competitiva, RealAgents desea optimizar los precios de lista de las casas que está tratando de vender.\n",
    "\n",
    "Quieren lograrlo **prediciendo el precio de venta de una casa según sus características**.\n",
    "\n",
    "Si pueden predecir el precio de venta con anticipación, podrán **reducir el tiempo de venta**.\n",
    "\n",
    "---\n",
    "\n",
    "## Datos\n",
    "\n",
    "El conjunto de datos contiene registros de casas vendidas previamente en la zona.\n",
    "\n",
    "| Nombre de columna  | Criterio                                                                                                                                                                                                               |\n",
    "| ------------------ | ---------------------------------------------------------------------------------------------------------------------------------------------------------------------------------------------------------------------- |\n",
    "| **house\\_id**      | Nominal. </br> Identificador único de cada casa. </br>No se permiten valores faltantes.                                                                                                                                |\n",
    "| **city**           | Nominal. </br>La ciudad en la que se encuentra la casa. Una de: *Silvertown*, *Riverford*, *Teasdale* o *Poppleton*. </br>Reemplazar valores faltantes por `\"Unknown\"`.                                                |\n",
    "| **sale\\_price**    | Discreta. </br>Precio de venta de la casa en dólares enteros. Puede ser cualquier número positivo mayor o igual a cero. </br>Eliminar entradas faltantes.                                                              |\n",
    "| **sale\\_date**     | Discreta. </br>Fecha de la última venta de la casa. </br>Reemplazar valores faltantes por `2023-01-01`.                                                                                                                |\n",
    "| **months\\_listed** | Continua. </br>Número de meses que la casa estuvo listada en el mercado antes de su última venta, redondeado a un decimal. </br>Reemplazar valores faltantes por la media del número de meses listados (a un decimal). |\n",
    "| **bedrooms**       | Discreta. </br>Número de dormitorios de la casa. Cualquier valor positivo mayor o igual a cero. </br>Reemplazar valores faltantes por la media de dormitorios, redondeada al número entero más cercano.                |\n",
    "| **house\\_type**    | Ordinal. </br>Uno de: *Terraced* (dos paredes compartidas), *Semi-detached* (una pared compartida) o *Detached* (ninguna pared compartida). </br>Reemplazar valores faltantes por el tipo de casa más común.           |\n",
    "| **area**           | Continua. </br>Área de la casa en metros cuadrados, redondeada a un decimal. </br>Reemplazar valores faltantes por la media (a un decimal).                                                                            |\n",
    "\n",
    "---"
   ]
  },
  {
   "cell_type": "markdown",
   "id": "cf9a0ed5",
   "metadata": {},
   "source": [
    "\n",
    "---\n",
    "\n",
    "# Tarea 1\n",
    "\n",
    "El equipo de **RealAgents** sabe que la ciudad en la que se ubica una propiedad influye en el precio de venta.\n",
    "\n",
    "Desafortunadamente, creen que este dato no siempre está registrado en la información.\n",
    "\n",
    "Calcular el **número de valores faltantes** en la columna `city`.\n",
    "\n",
    "* Debes usar los datos del archivo **\"house\\_sales.csv\"**.\n",
    "* Tu salida debe ser un objeto llamado **`missing_city`**, que contenga el número de valores faltantes en esta columna.\n",
    "\n",
    "---\n"
   ]
  },
  {
   "cell_type": "code",
   "execution_count": 1,
   "id": "ece9f08b",
   "metadata": {},
   "outputs": [
    {
     "name": "stdout",
     "output_type": "stream",
     "text": [
      "<class 'pandas.core.frame.DataFrame'>\n",
      "RangeIndex: 1500 entries, 0 to 1499\n",
      "Data columns (total 8 columns):\n",
      " #   Column         Non-Null Count  Dtype  \n",
      "---  ------         --------------  -----  \n",
      " 0   house_id       1500 non-null   int64  \n",
      " 1   city           1500 non-null   object \n",
      " 2   sale_price     1500 non-null   int64  \n",
      " 3   sale_date      1500 non-null   object \n",
      " 4   months_listed  1469 non-null   float64\n",
      " 5   bedrooms       1500 non-null   int64  \n",
      " 6   house_type     1500 non-null   object \n",
      " 7   area           1500 non-null   object \n",
      "dtypes: float64(1), int64(3), object(4)\n",
      "memory usage: 93.9+ KB\n"
     ]
    }
   ],
   "source": [
    "import pandas as pd \n",
    "\n",
    "df = pd.read_csv('/home/jefferssonds/Documentos/VSC/DSA_DATACAMP-20250806T020709Z-1-001/DSA_DATACAMP/certificado_examen/data/house_sales.csv')\n",
    "df.info()"
   ]
  },
  {
   "cell_type": "code",
   "execution_count": 2,
   "id": "af35f52d",
   "metadata": {},
   "outputs": [],
   "source": [
    "missing_city = len(df[df['city'] == '--'])"
   ]
  },
  {
   "cell_type": "markdown",
   "id": "8b6c2d90",
   "metadata": {},
   "source": [
    "\n",
    "---\n",
    "\n",
    "# Tarea 2\n",
    "\n",
    "Antes de ajustar cualquier modelo, necesitas asegurarte de que los datos estén limpios.\n",
    "\n",
    "La siguiente tabla muestra cómo deberían verse los datos.\n",
    "\n",
    "Crea una versión limpia del **dataframe**.\n",
    "\n",
    "* Debes comenzar con los datos del archivo **\"house\\_sales.csv\"**.\n",
    "* Tu salida debe ser un **dataframe** llamado **`clean_data`**.\n",
    "* Todos los nombres de columnas y valores deben coincidir con lo indicado en la tabla.\n",
    "\n",
    "| Nombre de columna  | Criterio                                                                                                                                                                                                     |\n",
    "| ------------------ | ------------------------------------------------------------------------------------------------------------------------------------------------------------------------------------------------------------ |\n",
    "| **house\\_id**      | Nominal. </br> Identificador único para cada casa. </br>No se permiten valores faltantes.                                                                                                                    |\n",
    "| **city**           | Nominal. </br>La ciudad en la que se encuentra la casa. Una de: *Silvertown*, *Riverford*, *Teasdale* o *Poppleton*. </br>Reemplazar valores faltantes por `\"Unknown\"`.                                      |\n",
    "| **sale\\_price**    | Discreta. </br>Precio de venta de la casa en dólares enteros. Puede ser cualquier número positivo mayor o igual a cero. </br>Eliminar registros con valores faltantes.                                       |\n",
    "| **sale\\_date**     | Discreta. </br>Fecha de la última venta de la casa. </br>Reemplazar valores faltantes por `2023-01-01`.                                                                                                      |\n",
    "| **months\\_listed** | Continua. </br>Número de meses que la casa estuvo listada en el mercado antes de su última venta, redondeado a un decimal. </br>Reemplazar valores faltantes con la media de meses listados (a un decimal).  |\n",
    "| **bedrooms**       | Discreta. </br>Número de dormitorios de la casa. Cualquier valor positivo mayor o igual a cero. </br>Reemplazar valores faltantes con la media de dormitorios, redondeada al número entero más cercano.      |\n",
    "| **house\\_type**    | Ordinal. </br>Uno de: *Terraced* (dos paredes compartidas), *Semi-detached* (una pared compartida) o *Detached* (ninguna pared compartida). </br>Reemplazar valores faltantes con el tipo de casa más común. |\n",
    "| **area**           | Continua. </br>Área de la casa en metros cuadrados, redondeada a un decimal. </br>Reemplazar valores faltantes con la media (a un decimal).                                                                  |\n",
    "\n",
    "---\n"
   ]
  },
  {
   "cell_type": "code",
   "execution_count": 3,
   "id": "a1218d05",
   "metadata": {},
   "outputs": [
    {
     "data": {
      "application/vnd.microsoft.datawrangler.viewer.v0+json": {
       "columns": [
        {
         "name": "city",
         "rawType": "category",
         "type": "unknown"
        },
        {
         "name": "count",
         "rawType": "int64",
         "type": "integer"
        }
       ],
       "ref": "05c2c103-299b-4b41-9ca7-dac2148d258f",
       "rows": [
        [
         "Silvertown",
         "517"
        ],
        [
         "Teasdale",
         "366"
        ],
        [
         "Poppleton",
         "362"
        ],
        [
         "Riverford",
         "182"
        ],
        [
         "Unknown",
         "73"
        ]
       ],
       "shape": {
        "columns": 1,
        "rows": 5
       }
      },
      "text/plain": [
       "city\n",
       "Silvertown    517\n",
       "Teasdale      366\n",
       "Poppleton     362\n",
       "Riverford     182\n",
       "Unknown        73\n",
       "Name: count, dtype: int64"
      ]
     },
     "execution_count": 3,
     "metadata": {},
     "output_type": "execute_result"
    }
   ],
   "source": [
    "df['city'] = df['city'].replace('--', 'Unknown')\n",
    "df['city'] = df['city'].astype('category')\n",
    "df['city'].value_counts()"
   ]
  },
  {
   "cell_type": "code",
   "execution_count": 4,
   "id": "1c720df0",
   "metadata": {},
   "outputs": [
    {
     "data": {
      "application/vnd.microsoft.datawrangler.viewer.v0+json": {
       "columns": [
        {
         "name": "index",
         "rawType": "int64",
         "type": "integer"
        },
        {
         "name": "sale_date",
         "rawType": "datetime64[ns]",
         "type": "datetime"
        }
       ],
       "ref": "dbc7338f-732e-4704-b2ba-b8d540c52e12",
       "rows": [
        [
         "0",
         "2021-09-12 00:00:00"
        ],
        [
         "1",
         "2021-01-17 00:00:00"
        ],
        [
         "2",
         "2021-11-10 00:00:00"
        ],
        [
         "3",
         "2020-04-13 00:00:00"
        ],
        [
         "4",
         "2020-09-24 00:00:00"
        ],
        [
         "5",
         "2020-09-25 00:00:00"
        ],
        [
         "6",
         "2021-05-18 00:00:00"
        ],
        [
         "7",
         "2020-10-15 00:00:00"
        ],
        [
         "8",
         "2021-01-07 00:00:00"
        ],
        [
         "9",
         "2020-05-04 00:00:00"
        ],
        [
         "10",
         "2021-10-26 00:00:00"
        ],
        [
         "11",
         "2020-06-11 00:00:00"
        ],
        [
         "12",
         "2022-10-10 00:00:00"
        ],
        [
         "13",
         "2021-08-04 00:00:00"
        ],
        [
         "14",
         "2020-08-18 00:00:00"
        ],
        [
         "15",
         "2021-07-18 00:00:00"
        ],
        [
         "16",
         "2020-11-23 00:00:00"
        ],
        [
         "17",
         "2020-06-05 00:00:00"
        ],
        [
         "18",
         "2020-11-19 00:00:00"
        ],
        [
         "19",
         "2020-02-25 00:00:00"
        ],
        [
         "20",
         "2020-04-16 00:00:00"
        ],
        [
         "21",
         "2020-01-14 00:00:00"
        ],
        [
         "22",
         "2022-12-28 00:00:00"
        ],
        [
         "23",
         "2020-04-07 00:00:00"
        ],
        [
         "24",
         "2020-01-09 00:00:00"
        ],
        [
         "25",
         "2021-08-29 00:00:00"
        ],
        [
         "26",
         "2022-05-20 00:00:00"
        ],
        [
         "27",
         "2021-12-13 00:00:00"
        ],
        [
         "28",
         "2020-10-27 00:00:00"
        ],
        [
         "29",
         "2022-08-22 00:00:00"
        ],
        [
         "30",
         "2022-11-14 00:00:00"
        ],
        [
         "31",
         "2020-04-13 00:00:00"
        ],
        [
         "32",
         "2021-04-02 00:00:00"
        ],
        [
         "33",
         "2020-01-31 00:00:00"
        ],
        [
         "34",
         "2020-09-29 00:00:00"
        ],
        [
         "35",
         "2022-09-05 00:00:00"
        ],
        [
         "36",
         "2020-07-23 00:00:00"
        ],
        [
         "37",
         "2020-10-14 00:00:00"
        ],
        [
         "38",
         "2020-08-03 00:00:00"
        ],
        [
         "39",
         "2020-07-05 00:00:00"
        ],
        [
         "40",
         "2022-04-03 00:00:00"
        ],
        [
         "41",
         "2022-01-14 00:00:00"
        ],
        [
         "42",
         "2021-03-19 00:00:00"
        ],
        [
         "43",
         "2022-04-29 00:00:00"
        ],
        [
         "44",
         "2022-10-16 00:00:00"
        ],
        [
         "45",
         "2022-08-02 00:00:00"
        ],
        [
         "46",
         "2021-09-30 00:00:00"
        ],
        [
         "47",
         "2020-09-29 00:00:00"
        ],
        [
         "48",
         "2021-09-07 00:00:00"
        ],
        [
         "49",
         "2022-07-30 00:00:00"
        ]
       ],
       "shape": {
        "columns": 1,
        "rows": 1500
       }
      },
      "text/plain": [
       "0      2021-09-12\n",
       "1      2021-01-17\n",
       "2      2021-11-10\n",
       "3      2020-04-13\n",
       "4      2020-09-24\n",
       "          ...    \n",
       "1495   2022-02-17\n",
       "1496   2020-10-10\n",
       "1497   2022-11-01\n",
       "1498   2021-04-03\n",
       "1499   2021-12-06\n",
       "Name: sale_date, Length: 1500, dtype: datetime64[ns]"
      ]
     },
     "execution_count": 4,
     "metadata": {},
     "output_type": "execute_result"
    }
   ],
   "source": [
    "df['sale_date'] = pd.to_datetime(df['sale_date'])\n",
    "df['sale_date']"
   ]
  },
  {
   "cell_type": "code",
   "execution_count": 20,
   "id": "34555e5d",
   "metadata": {},
   "outputs": [
    {
     "name": "stderr",
     "output_type": "stream",
     "text": [
      "/tmp/ipykernel_825/3466010365.py:1: FutureWarning: A value is trying to be set on a copy of a DataFrame or Series through chained assignment using an inplace method.\n",
      "The behavior will change in pandas 3.0. This inplace method will never work because the intermediate object on which we are setting values always behaves as a copy.\n",
      "\n",
      "For example, when doing 'df[col].method(value, inplace=True)', try using 'df.method({col: value}, inplace=True)' or df[col] = df[col].method(value) instead, to perform the operation inplace on the original object.\n",
      "\n",
      "\n",
      "  df['months_listed'].fillna(df['months_listed'].mean(), inplace=True)\n"
     ]
    }
   ],
   "source": [
    "df['months_listed'].fillna(df['months_listed'].mean(), inplace=True)\n",
    "df['months_listed'] = round(df['months_listed'],1)"
   ]
  },
  {
   "cell_type": "code",
   "execution_count": 6,
   "id": "513d33bc",
   "metadata": {},
   "outputs": [],
   "source": [
    "df['house_type'].unique()\n",
    "\n",
    "df['house_type'] = df['house_type'].replace({'Det.':'Detached', 'Semi': 'Semi-detached', 'Terr.': 'Terraced'})"
   ]
  },
  {
   "cell_type": "code",
   "execution_count": 7,
   "id": "1e9983d9",
   "metadata": {},
   "outputs": [
    {
     "data": {
      "text/plain": [
       "array(['Semi-detached', 'Detached', 'Terraced'], dtype=object)"
      ]
     },
     "execution_count": 7,
     "metadata": {},
     "output_type": "execute_result"
    }
   ],
   "source": [
    "df['house_type'].unique()"
   ]
  },
  {
   "cell_type": "code",
   "execution_count": 16,
   "id": "18e350d2",
   "metadata": {},
   "outputs": [],
   "source": [
    "df['area'] = df['area'].str.split(' ').apply(lambda x: float(x[0]) if len(x) > 0 else None)"
   ]
  },
  {
   "cell_type": "code",
   "execution_count": 22,
   "id": "6ae9de83",
   "metadata": {},
   "outputs": [],
   "source": [
    "clean_data = df.copy()"
   ]
  },
  {
   "cell_type": "code",
   "execution_count": 23,
   "id": "e800d215",
   "metadata": {},
   "outputs": [
    {
     "data": {
      "application/vnd.microsoft.datawrangler.viewer.v0+json": {
       "columns": [
        {
         "name": "index",
         "rawType": "int64",
         "type": "integer"
        },
        {
         "name": "house_id",
         "rawType": "int64",
         "type": "integer"
        },
        {
         "name": "city",
         "rawType": "category",
         "type": "unknown"
        },
        {
         "name": "sale_price",
         "rawType": "int64",
         "type": "integer"
        },
        {
         "name": "sale_date",
         "rawType": "datetime64[ns]",
         "type": "datetime"
        },
        {
         "name": "months_listed",
         "rawType": "float64",
         "type": "float"
        },
        {
         "name": "bedrooms",
         "rawType": "int64",
         "type": "integer"
        },
        {
         "name": "house_type",
         "rawType": "object",
         "type": "string"
        },
        {
         "name": "area",
         "rawType": "float64",
         "type": "float"
        }
       ],
       "ref": "3f9b3b91-ca0e-436a-bfa9-b872b32fc6ff",
       "rows": [
        [
         "0",
         "1217792",
         "Silvertown",
         "55943",
         "2021-09-12 00:00:00",
         "5.4",
         "2",
         "Semi-detached",
         "107.8"
        ],
        [
         "1",
         "1900913",
         "Silvertown",
         "384677",
         "2021-01-17 00:00:00",
         "6.3",
         "5",
         "Detached",
         "498.8"
        ],
        [
         "2",
         "1174927",
         "Riverford",
         "281707",
         "2021-11-10 00:00:00",
         "6.9",
         "6",
         "Detached",
         "542.5"
        ],
        [
         "3",
         "1773666",
         "Silvertown",
         "373251",
         "2020-04-13 00:00:00",
         "6.1",
         "6",
         "Detached",
         "528.4"
        ],
        [
         "4",
         "1258487",
         "Silvertown",
         "328885",
         "2020-09-24 00:00:00",
         "8.7",
         "5",
         "Detached",
         "477.1"
        ],
        [
         "5",
         "1539789",
         "Riverford",
         "47143",
         "2020-09-25 00:00:00",
         "5.1",
         "2",
         "Semi-detached",
         "123.2"
        ],
        [
         "6",
         "1353069",
         "Teasdale",
         "429914",
         "2021-05-18 00:00:00",
         "5.9",
         "6",
         "Detached",
         "544.6"
        ],
        [
         "7",
         "1155864",
         "Teasdale",
         "284440",
         "2020-10-15 00:00:00",
         "5.8",
         "4",
         "Detached",
         "371.3"
        ],
        [
         "8",
         "1608726",
         "Teasdale",
         "87134",
         "2021-01-07 00:00:00",
         "4.4",
         "2",
         "Semi-detached",
         "125.7"
        ],
        [
         "9",
         "1358764",
         "Poppleton",
         "211203",
         "2020-05-04 00:00:00",
         "3.0",
         "4",
         "Detached",
         "371.5"
        ],
        [
         "10",
         "1277089",
         "Teasdale",
         "382655",
         "2021-10-26 00:00:00",
         "4.6",
         "5",
         "Detached",
         "428.8"
        ],
        [
         "11",
         "1117876",
         "Riverford",
         "54934",
         "2020-06-11 00:00:00",
         "3.7",
         "2",
         "Semi-detached",
         "147.7"
        ],
        [
         "12",
         "1710056",
         "Silvertown",
         "297101",
         "2022-10-10 00:00:00",
         "5.8",
         "4",
         "Detached",
         "395.6"
        ],
        [
         "13",
         "1860591",
         "Poppleton",
         "171502",
         "2021-08-04 00:00:00",
         "6.2",
         "4",
         "Detached",
         "304.4"
        ],
        [
         "14",
         "1470021",
         "Riverford",
         "158198",
         "2020-08-18 00:00:00",
         "5.3",
         "4",
         "Detached",
         "316.8"
        ],
        [
         "15",
         "1396614",
         "Teasdale",
         "428808",
         "2021-07-18 00:00:00",
         "3.5",
         "6",
         "Detached",
         "554.3"
        ],
        [
         "16",
         "1369220",
         "Teasdale",
         "269688",
         "2020-11-23 00:00:00",
         "5.0",
         "4",
         "Detached",
         "374.9"
        ],
        [
         "17",
         "1195530",
         "Silvertown",
         "208965",
         "2020-06-05 00:00:00",
         "4.6",
         "3",
         "Detached",
         "294.3"
        ],
        [
         "18",
         "1384054",
         "Silvertown",
         "257146",
         "2020-11-19 00:00:00",
         "5.5",
         "4",
         "Detached",
         "397.0"
        ],
        [
         "19",
         "1070852",
         "Riverford",
         "160653",
         "2020-02-25 00:00:00",
         "6.9",
         "4",
         "Detached",
         "316.3"
        ],
        [
         "20",
         "1239607",
         "Poppleton",
         "173098",
         "2020-04-16 00:00:00",
         "5.9",
         "3",
         "Detached",
         "296.9"
        ],
        [
         "21",
         "1234703",
         "Poppleton",
         "44759",
         "2020-01-14 00:00:00",
         "7.8",
         "2",
         "Terraced",
         "155.8"
        ],
        [
         "22",
         "1029340",
         "Teasdale",
         "257485",
         "2022-12-28 00:00:00",
         "4.9",
         "4",
         "Detached",
         "340.0"
        ],
        [
         "23",
         "1230625",
         "Silvertown",
         "360545",
         "2020-04-07 00:00:00",
         "6.2",
         "6",
         "Detached",
         "512.9"
        ],
        [
         "24",
         "1509752",
         "Poppleton",
         "299439",
         "2020-01-09 00:00:00",
         "4.7",
         "6",
         "Detached",
         "533.1"
        ],
        [
         "25",
         "1690505",
         "Poppleton",
         "181902",
         "2021-08-29 00:00:00",
         "8.9",
         "4",
         "Detached",
         "310.6"
        ],
        [
         "26",
         "1333241",
         "Riverford",
         "247401",
         "2022-05-20 00:00:00",
         "3.7",
         "5",
         "Detached",
         "486.5"
        ],
        [
         "27",
         "1460636",
         "Silvertown",
         "297446",
         "2021-12-13 00:00:00",
         "4.7",
         "5",
         "Detached",
         "424.8"
        ],
        [
         "28",
         "1925995",
         "Teasdale",
         "429022",
         "2020-10-27 00:00:00",
         "5.9",
         "6",
         "Detached",
         "532.8"
        ],
        [
         "29",
         "1751885",
         "Riverford",
         "74877",
         "2022-08-22 00:00:00",
         "3.8",
         "3",
         "Semi-detached",
         "209.8"
        ],
        [
         "30",
         "1357314",
         "Teasdale",
         "415389",
         "2022-11-14 00:00:00",
         "4.8",
         "6",
         "Detached",
         "520.9"
        ],
        [
         "31",
         "1598280",
         "Teasdale",
         "91672",
         "2020-04-13 00:00:00",
         "7.6",
         "3",
         "Terraced",
         "229.4"
        ],
        [
         "32",
         "1042443",
         "Silvertown",
         "76722",
         "2021-04-02 00:00:00",
         "6.4",
         "2",
         "Semi-detached",
         "160.2"
        ],
        [
         "33",
         "1418816",
         "Teasdale",
         "202506",
         "2020-01-31 00:00:00",
         "5.8",
         "3",
         "Detached",
         "254.8"
        ],
        [
         "34",
         "1865882",
         "Silvertown",
         "77037",
         "2020-09-29 00:00:00",
         "6.4",
         "2",
         "Semi-detached",
         "168.6"
        ],
        [
         "35",
         "1247170",
         "Silvertown",
         "396370",
         "2022-09-05 00:00:00",
         "5.4",
         "6",
         "Detached",
         "553.8"
        ],
        [
         "36",
         "1883852",
         "Silvertown",
         "91287",
         "2020-07-23 00:00:00",
         "7.9",
         "2",
         "Semi-detached",
         "175.4"
        ],
        [
         "37",
         "1862984",
         "Teasdale",
         "197265",
         "2020-10-14 00:00:00",
         "6.1",
         "3",
         "Detached",
         "254.9"
        ],
        [
         "38",
         "1183122",
         "Riverford",
         "89504",
         "2020-08-03 00:00:00",
         "6.6",
         "3",
         "Semi-detached",
         "228.8"
        ],
        [
         "39",
         "1948789",
         "Riverford",
         "215858",
         "2020-07-05 00:00:00",
         "5.4",
         "5",
         "Detached",
         "428.7"
        ],
        [
         "40",
         "1789755",
         "Poppleton",
         "141265",
         "2022-04-03 00:00:00",
         "4.1",
         "3",
         "Detached",
         "246.1"
        ],
        [
         "41",
         "1734155",
         "Silvertown",
         "309230",
         "2022-01-14 00:00:00",
         "7.4",
         "5",
         "Detached",
         "461.7"
        ],
        [
         "42",
         "1685700",
         "Teasdale",
         "77482",
         "2021-03-19 00:00:00",
         "7.1",
         "2",
         "Semi-detached",
         "125.5"
        ],
        [
         "43",
         "1629610",
         "Teasdale",
         "305026",
         "2022-04-29 00:00:00",
         "5.4",
         "4",
         "Detached",
         "392.1"
        ],
        [
         "44",
         "1377013",
         "Riverford",
         "224905",
         "2022-10-16 00:00:00",
         "6.9",
         "5",
         "Detached",
         "455.4"
        ],
        [
         "45",
         "1223765",
         "Silvertown",
         "299889",
         "2022-08-02 00:00:00",
         "6.7",
         "5",
         "Detached",
         "420.2"
        ],
        [
         "46",
         "1257849",
         "Poppleton",
         "183020",
         "2021-09-30 00:00:00",
         "5.5",
         "3",
         "Detached",
         "298.4"
        ],
        [
         "47",
         "1650856",
         "Poppleton",
         "266342",
         "2020-09-29 00:00:00",
         "3.9",
         "5",
         "Detached",
         "462.6"
        ],
        [
         "48",
         "1737725",
         "Teasdale",
         "320752",
         "2021-09-07 00:00:00",
         "5.1",
         "5",
         "Detached",
         "408.9"
        ],
        [
         "49",
         "1626594",
         "Poppleton",
         "286361",
         "2022-07-30 00:00:00",
         "4.3",
         "5",
         "Detached",
         "484.1"
        ]
       ],
       "shape": {
        "columns": 8,
        "rows": 1500
       }
      },
      "text/html": [
       "<div>\n",
       "<style scoped>\n",
       "    .dataframe tbody tr th:only-of-type {\n",
       "        vertical-align: middle;\n",
       "    }\n",
       "\n",
       "    .dataframe tbody tr th {\n",
       "        vertical-align: top;\n",
       "    }\n",
       "\n",
       "    .dataframe thead th {\n",
       "        text-align: right;\n",
       "    }\n",
       "</style>\n",
       "<table border=\"1\" class=\"dataframe\">\n",
       "  <thead>\n",
       "    <tr style=\"text-align: right;\">\n",
       "      <th></th>\n",
       "      <th>house_id</th>\n",
       "      <th>city</th>\n",
       "      <th>sale_price</th>\n",
       "      <th>sale_date</th>\n",
       "      <th>months_listed</th>\n",
       "      <th>bedrooms</th>\n",
       "      <th>house_type</th>\n",
       "      <th>area</th>\n",
       "    </tr>\n",
       "  </thead>\n",
       "  <tbody>\n",
       "    <tr>\n",
       "      <th>0</th>\n",
       "      <td>1217792</td>\n",
       "      <td>Silvertown</td>\n",
       "      <td>55943</td>\n",
       "      <td>2021-09-12</td>\n",
       "      <td>5.4</td>\n",
       "      <td>2</td>\n",
       "      <td>Semi-detached</td>\n",
       "      <td>107.8</td>\n",
       "    </tr>\n",
       "    <tr>\n",
       "      <th>1</th>\n",
       "      <td>1900913</td>\n",
       "      <td>Silvertown</td>\n",
       "      <td>384677</td>\n",
       "      <td>2021-01-17</td>\n",
       "      <td>6.3</td>\n",
       "      <td>5</td>\n",
       "      <td>Detached</td>\n",
       "      <td>498.8</td>\n",
       "    </tr>\n",
       "    <tr>\n",
       "      <th>2</th>\n",
       "      <td>1174927</td>\n",
       "      <td>Riverford</td>\n",
       "      <td>281707</td>\n",
       "      <td>2021-11-10</td>\n",
       "      <td>6.9</td>\n",
       "      <td>6</td>\n",
       "      <td>Detached</td>\n",
       "      <td>542.5</td>\n",
       "    </tr>\n",
       "    <tr>\n",
       "      <th>3</th>\n",
       "      <td>1773666</td>\n",
       "      <td>Silvertown</td>\n",
       "      <td>373251</td>\n",
       "      <td>2020-04-13</td>\n",
       "      <td>6.1</td>\n",
       "      <td>6</td>\n",
       "      <td>Detached</td>\n",
       "      <td>528.4</td>\n",
       "    </tr>\n",
       "    <tr>\n",
       "      <th>4</th>\n",
       "      <td>1258487</td>\n",
       "      <td>Silvertown</td>\n",
       "      <td>328885</td>\n",
       "      <td>2020-09-24</td>\n",
       "      <td>8.7</td>\n",
       "      <td>5</td>\n",
       "      <td>Detached</td>\n",
       "      <td>477.1</td>\n",
       "    </tr>\n",
       "    <tr>\n",
       "      <th>...</th>\n",
       "      <td>...</td>\n",
       "      <td>...</td>\n",
       "      <td>...</td>\n",
       "      <td>...</td>\n",
       "      <td>...</td>\n",
       "      <td>...</td>\n",
       "      <td>...</td>\n",
       "      <td>...</td>\n",
       "    </tr>\n",
       "    <tr>\n",
       "      <th>1495</th>\n",
       "      <td>1123892</td>\n",
       "      <td>Riverford</td>\n",
       "      <td>198661</td>\n",
       "      <td>2022-02-17</td>\n",
       "      <td>7.3</td>\n",
       "      <td>5</td>\n",
       "      <td>Detached</td>\n",
       "      <td>432.2</td>\n",
       "    </tr>\n",
       "    <tr>\n",
       "      <th>1496</th>\n",
       "      <td>1327295</td>\n",
       "      <td>Poppleton</td>\n",
       "      <td>358304</td>\n",
       "      <td>2020-10-10</td>\n",
       "      <td>6.2</td>\n",
       "      <td>6</td>\n",
       "      <td>Detached</td>\n",
       "      <td>599.8</td>\n",
       "    </tr>\n",
       "    <tr>\n",
       "      <th>1497</th>\n",
       "      <td>1058161</td>\n",
       "      <td>Riverford</td>\n",
       "      <td>176612</td>\n",
       "      <td>2022-11-01</td>\n",
       "      <td>6.8</td>\n",
       "      <td>4</td>\n",
       "      <td>Detached</td>\n",
       "      <td>359.1</td>\n",
       "    </tr>\n",
       "    <tr>\n",
       "      <th>1498</th>\n",
       "      <td>1822037</td>\n",
       "      <td>Teasdale</td>\n",
       "      <td>197827</td>\n",
       "      <td>2021-04-03</td>\n",
       "      <td>5.4</td>\n",
       "      <td>3</td>\n",
       "      <td>Detached</td>\n",
       "      <td>253.7</td>\n",
       "    </tr>\n",
       "    <tr>\n",
       "      <th>1499</th>\n",
       "      <td>1679272</td>\n",
       "      <td>Poppleton</td>\n",
       "      <td>162099</td>\n",
       "      <td>2021-12-06</td>\n",
       "      <td>5.0</td>\n",
       "      <td>3</td>\n",
       "      <td>Detached</td>\n",
       "      <td>268.7</td>\n",
       "    </tr>\n",
       "  </tbody>\n",
       "</table>\n",
       "<p>1500 rows × 8 columns</p>\n",
       "</div>"
      ],
      "text/plain": [
       "      house_id        city  sale_price  sale_date  months_listed  bedrooms  \\\n",
       "0      1217792  Silvertown       55943 2021-09-12            5.4         2   \n",
       "1      1900913  Silvertown      384677 2021-01-17            6.3         5   \n",
       "2      1174927   Riverford      281707 2021-11-10            6.9         6   \n",
       "3      1773666  Silvertown      373251 2020-04-13            6.1         6   \n",
       "4      1258487  Silvertown      328885 2020-09-24            8.7         5   \n",
       "...        ...         ...         ...        ...            ...       ...   \n",
       "1495   1123892   Riverford      198661 2022-02-17            7.3         5   \n",
       "1496   1327295   Poppleton      358304 2020-10-10            6.2         6   \n",
       "1497   1058161   Riverford      176612 2022-11-01            6.8         4   \n",
       "1498   1822037    Teasdale      197827 2021-04-03            5.4         3   \n",
       "1499   1679272   Poppleton      162099 2021-12-06            5.0         3   \n",
       "\n",
       "         house_type   area  \n",
       "0     Semi-detached  107.8  \n",
       "1          Detached  498.8  \n",
       "2          Detached  542.5  \n",
       "3          Detached  528.4  \n",
       "4          Detached  477.1  \n",
       "...             ...    ...  \n",
       "1495       Detached  432.2  \n",
       "1496       Detached  599.8  \n",
       "1497       Detached  359.1  \n",
       "1498       Detached  253.7  \n",
       "1499       Detached  268.7  \n",
       "\n",
       "[1500 rows x 8 columns]"
      ]
     },
     "execution_count": 23,
     "metadata": {},
     "output_type": "execute_result"
    }
   ],
   "source": [
    "clean_data"
   ]
  },
  {
   "cell_type": "markdown",
   "id": "65f9afa7",
   "metadata": {},
   "source": [
    "\n",
    "---\n",
    "\n",
    "# Tarea 3\n",
    "\n",
    "El equipo de **RealAgents** te ha comentado que siempre han creído que el **número de dormitorios** es el principal factor que determina el precio de una casa.\n",
    "\n",
    "Genera una tabla que muestre la **diferencia en el precio promedio de venta según el número de dormitorios**, junto con la **varianza**, para investigar esta cuestión.\n",
    "\n",
    "* Debes comenzar con los datos del archivo **\"house\\_sales.csv\"**.\n",
    "* Tu salida debe ser un **dataframe** llamado **`price_by_rooms`**.\n",
    "* Debe incluir tres columnas: **`bedrooms`**, **`avg_price`**, **`var_price`**.\n",
    "* Tus resultados deben estar **redondeados a 1 decimal**.\n",
    "\n",
    "---\n"
   ]
  },
  {
   "cell_type": "code",
   "execution_count": 33,
   "id": "06cf5b92",
   "metadata": {},
   "outputs": [
    {
     "data": {
      "application/vnd.microsoft.datawrangler.viewer.v0+json": {
       "columns": [
        {
         "name": "bedrooms",
         "rawType": "int64",
         "type": "integer"
        },
        {
         "name": "avg_price",
         "rawType": "float64",
         "type": "float"
        },
        {
         "name": "var_price",
         "rawType": "float64",
         "type": "float"
        }
       ],
       "ref": "b0107ecc-d8c0-42ec-8acd-ddf9bdbc7a95",
       "rows": [
        [
         "2",
         "67076.4",
         "565289569.7"
        ],
        [
         "3",
         "154665.1",
         "2378289076.9"
        ],
        [
         "4",
         "234704.6",
         "1725211191.5"
        ],
        [
         "5",
         "301515.9",
         "2484327529.0"
        ],
        [
         "6",
         "375741.3",
         "3924432279.5"
        ]
       ],
       "shape": {
        "columns": 2,
        "rows": 5
       }
      },
      "text/html": [
       "<div>\n",
       "<style scoped>\n",
       "    .dataframe tbody tr th:only-of-type {\n",
       "        vertical-align: middle;\n",
       "    }\n",
       "\n",
       "    .dataframe tbody tr th {\n",
       "        vertical-align: top;\n",
       "    }\n",
       "\n",
       "    .dataframe thead th {\n",
       "        text-align: right;\n",
       "    }\n",
       "</style>\n",
       "<table border=\"1\" class=\"dataframe\">\n",
       "  <thead>\n",
       "    <tr style=\"text-align: right;\">\n",
       "      <th></th>\n",
       "      <th>avg_price</th>\n",
       "      <th>var_price</th>\n",
       "    </tr>\n",
       "    <tr>\n",
       "      <th>bedrooms</th>\n",
       "      <th></th>\n",
       "      <th></th>\n",
       "    </tr>\n",
       "  </thead>\n",
       "  <tbody>\n",
       "    <tr>\n",
       "      <th>2</th>\n",
       "      <td>67076.4</td>\n",
       "      <td>5.652896e+08</td>\n",
       "    </tr>\n",
       "    <tr>\n",
       "      <th>3</th>\n",
       "      <td>154665.1</td>\n",
       "      <td>2.378289e+09</td>\n",
       "    </tr>\n",
       "    <tr>\n",
       "      <th>4</th>\n",
       "      <td>234704.6</td>\n",
       "      <td>1.725211e+09</td>\n",
       "    </tr>\n",
       "    <tr>\n",
       "      <th>5</th>\n",
       "      <td>301515.9</td>\n",
       "      <td>2.484328e+09</td>\n",
       "    </tr>\n",
       "    <tr>\n",
       "      <th>6</th>\n",
       "      <td>375741.3</td>\n",
       "      <td>3.924432e+09</td>\n",
       "    </tr>\n",
       "  </tbody>\n",
       "</table>\n",
       "</div>"
      ],
      "text/plain": [
       "          avg_price     var_price\n",
       "bedrooms                         \n",
       "2           67076.4  5.652896e+08\n",
       "3          154665.1  2.378289e+09\n",
       "4          234704.6  1.725211e+09\n",
       "5          301515.9  2.484328e+09\n",
       "6          375741.3  3.924432e+09"
      ]
     },
     "execution_count": 33,
     "metadata": {},
     "output_type": "execute_result"
    }
   ],
   "source": [
    "price_by_rooms = round(clean_data.groupby('bedrooms')['sale_price'].agg(['mean', 'var']),1)\n",
    "price_by_rooms.columns = ['avg_price','var_price']\n",
    "price_by_rooms"
   ]
  },
  {
   "cell_type": "markdown",
   "id": "04c2e36e",
   "metadata": {},
   "source": [
    "\n",
    "---\n",
    "\n",
    "# Tarea 4\n",
    "\n",
    "Ajusta un **modelo base** para predecir el precio de venta de una casa.\n",
    "\n",
    "1. Ajusta tu modelo usando los datos contenidos en **“train.csv”**. </br></br>\n",
    "2. Usa **“validation.csv”** para predecir nuevos valores basados en tu modelo. Debes devolver un **dataframe** llamado **`base_result`**, que incluya las columnas **`house_id`** y **`price`**. La columna **`price`** debe contener tus valores predichos.\n",
    "\n",
    "---\n",
    "\n"
   ]
  },
  {
   "cell_type": "code",
   "execution_count": 34,
   "id": "63f92efa",
   "metadata": {},
   "outputs": [
    {
     "data": {
      "application/vnd.microsoft.datawrangler.viewer.v0+json": {
       "columns": [
        {
         "name": "index",
         "rawType": "int64",
         "type": "integer"
        },
        {
         "name": "house_id",
         "rawType": "int64",
         "type": "integer"
        },
        {
         "name": "city",
         "rawType": "object",
         "type": "string"
        },
        {
         "name": "sale_price",
         "rawType": "int64",
         "type": "integer"
        },
        {
         "name": "sale_date",
         "rawType": "object",
         "type": "string"
        },
        {
         "name": "months_listed",
         "rawType": "float64",
         "type": "float"
        },
        {
         "name": "bedrooms",
         "rawType": "int64",
         "type": "integer"
        },
        {
         "name": "house_type",
         "rawType": "object",
         "type": "string"
        },
        {
         "name": "area",
         "rawType": "float64",
         "type": "float"
        }
       ],
       "ref": "37ec2f33-a5a9-41c8-a34d-c873af3afa45",
       "rows": [
        [
         "0",
         "1634561",
         "Teasdale",
         "401869",
         "2021-12-14",
         "7.0",
         "6",
         "Detached",
         "519.7"
        ],
        [
         "1",
         "1009770",
         "Silvertown",
         "372387",
         "2022-09-11",
         "8.1",
         "6",
         "Detached",
         "507.8"
        ],
        [
         "2",
         "1946667",
         "Silvertown",
         "325473",
         "2020-08-19",
         "5.4",
         "5",
         "Detached",
         "466.8"
        ],
        [
         "3",
         "1798290",
         "Silvertown",
         "349469",
         "2022-12-10",
         "6.4",
         "5",
         "Detached",
         "499.4"
        ],
        [
         "4",
         "1533461",
         "Poppleton",
         "199995",
         "2020-04-07",
         "4.3",
         "4",
         "Detached",
         "335.0"
        ],
        [
         "5",
         "1232200",
         "Teasdale",
         "67372",
         "2021-05-09",
         "5.9",
         "2",
         "Semi-detached",
         "116.5"
        ],
        [
         "6",
         "1182761",
         "Poppleton",
         "193803",
         "2022-10-30",
         "9.5",
         "4",
         "Detached",
         "321.8"
        ],
        [
         "7",
         "1346363",
         "Poppleton",
         "321844",
         "2020-12-06",
         "6.3",
         "6",
         "Detached",
         "582.9"
        ],
        [
         "8",
         "1459745",
         "Riverford",
         "268723",
         "2022-09-07",
         "5.8",
         "6",
         "Detached",
         "553.0"
        ],
        [
         "9",
         "1610313",
         "Poppleton",
         "113063",
         "2021-07-19",
         "2.2",
         "3",
         "Semi-detached",
         "239.4"
        ],
        [
         "10",
         "1317126",
         "Teasdale",
         "41478",
         "2022-07-08",
         "7.2",
         "2",
         "Terraced",
         "111.7"
        ],
        [
         "11",
         "1087100",
         "Poppleton",
         "155106",
         "2021-06-25",
         "2.9",
         "3",
         "Detached",
         "265.5"
        ],
        [
         "12",
         "1488925",
         "Riverford",
         "208507",
         "2022-05-30",
         "9.7",
         "4",
         "Detached",
         "393.5"
        ],
        [
         "13",
         "1714846",
         "Silvertown",
         "413526",
         "2021-08-19",
         "3.1",
         "6",
         "Detached",
         "569.0"
        ],
        [
         "14",
         "1042643",
         "Teasdale",
         "415605",
         "2020-09-17",
         "1.0",
         "6",
         "Detached",
         "581.6"
        ],
        [
         "15",
         "1377739",
         "Silvertown",
         "194645",
         "2022-01-05",
         "2.0",
         "3",
         "Detached",
         "274.8"
        ],
        [
         "16",
         "1904652",
         "Riverford",
         "23181",
         "2022-09-07",
         "4.9",
         "2",
         "Terraced",
         "101.3"
        ],
        [
         "17",
         "1165244",
         "Riverford",
         "320225",
         "2020-11-22",
         "2.5",
         "6",
         "Detached",
         "590.5"
        ],
        [
         "18",
         "1579548",
         "Silvertown",
         "106116",
         "2022-05-23",
         "4.0",
         "3",
         "Semi-detached",
         "202.9"
        ],
        [
         "19",
         "1488968",
         "Silvertown",
         "234688",
         "2022-10-13",
         "3.3",
         "4",
         "Detached",
         "332.7"
        ],
        [
         "20",
         "1935780",
         "Silvertown",
         "428866",
         "2021-03-28",
         "6.5",
         "6",
         "Detached",
         "573.6"
        ],
        [
         "21",
         "1086216",
         "Teasdale",
         "257398",
         "2021-01-15",
         "8.2",
         "4",
         "Detached",
         "338.9"
        ],
        [
         "22",
         "1373797",
         "Riverford",
         "109814",
         "2022-10-07",
         "5.0",
         "3",
         "Detached",
         "211.4"
        ],
        [
         "23",
         "1740539",
         "Riverford",
         "159533",
         "2022-05-06",
         "4.0",
         "4",
         "Detached",
         "339.1"
        ],
        [
         "24",
         "1308603",
         "Poppleton",
         "121614",
         "2021-12-11",
         "5.1",
         "3",
         "Detached",
         "219.4"
        ],
        [
         "25",
         "1630422",
         "Silvertown",
         "106098",
         "2020-12-20",
         "5.6",
         "2",
         "Semi-detached",
         "196.5"
        ],
        [
         "26",
         "1124700",
         "Teasdale",
         "433904",
         "2022-06-22",
         "8.1",
         "6",
         "Detached",
         "599.6"
        ],
        [
         "27",
         "1152528",
         "Teasdale",
         "130151",
         "2021-06-03",
         "4.8",
         "3",
         "Semi-detached",
         "221.1"
        ],
        [
         "28",
         "1945232",
         "Silvertown",
         "368984",
         "2021-06-29",
         "2.9",
         "5",
         "Detached",
         "498.6"
        ],
        [
         "29",
         "1979722",
         "Riverford",
         "285023",
         "2021-03-24",
         "2.9",
         "6",
         "Detached",
         "562.6"
        ],
        [
         "30",
         "1409959",
         "Riverford",
         "55809",
         "2022-04-16",
         "5.3",
         "2",
         "Semi-detached",
         "148.1"
        ],
        [
         "31",
         "1440885",
         "Silvertown",
         "310956",
         "2022-05-06",
         "9.0",
         "5",
         "Detached",
         "433.5"
        ],
        [
         "32",
         "1304938",
         "Poppleton",
         "276337",
         "2021-11-10",
         "8.6",
         "5",
         "Detached",
         "449.8"
        ],
        [
         "33",
         "1336638",
         "Silvertown",
         "242598",
         "2020-03-12",
         "7.6",
         "4",
         "Detached",
         "341.0"
        ],
        [
         "34",
         "1453413",
         "Poppleton",
         "341008",
         "2022-03-07",
         "5.9",
         "6",
         "Detached",
         "591.5"
        ],
        [
         "35",
         "1319131",
         "Teasdale",
         "95441",
         "2021-06-27",
         "5.7",
         "2",
         "Semi-detached",
         "163.8"
        ],
        [
         "36",
         "1272712",
         "Teasdale",
         "137139",
         "2021-01-04",
         "8.0",
         "3",
         "Semi-detached",
         "213.3"
        ],
        [
         "37",
         "1778882",
         "Poppleton",
         "247739",
         "2022-10-04",
         "7.4",
         "4",
         "Detached",
         "394.2"
        ],
        [
         "38",
         "1975821",
         "Riverford",
         "272388",
         "2022-06-08",
         "5.1",
         "5",
         "Detached",
         "495.3"
        ],
        [
         "39",
         "1934969",
         "Riverford",
         "130108",
         "2022-05-01",
         "5.1",
         "3",
         "Detached",
         "284.9"
        ],
        [
         "40",
         "1795070",
         "Silvertown",
         "399652",
         "2021-05-22",
         "5.0",
         "6",
         "Detached",
         "567.1"
        ],
        [
         "41",
         "1447152",
         "Teasdale",
         "248686",
         "2021-12-10",
         "5.8",
         "4",
         "Detached",
         "311.4"
        ],
        [
         "42",
         "1560330",
         "Teasdale",
         "353630",
         "2020-05-17",
         "9.7",
         "5",
         "Detached",
         "419.6"
        ],
        [
         "43",
         "1389691",
         "Poppleton",
         "76029",
         "2020-10-16",
         "5.3",
         "2",
         "Semi-detached",
         "183.2"
        ],
        [
         "44",
         "1256691",
         "Teasdale",
         "438922",
         "2022-09-26",
         "4.9",
         "6",
         "Detached",
         "528.7"
        ],
        [
         "45",
         "1783636",
         "Poppleton",
         "35110",
         "2020-10-01",
         "8.3",
         "2",
         "Terraced",
         "116.0"
        ],
        [
         "46",
         "1605074",
         "Silvertown",
         "275995",
         "2021-06-09",
         "6.9",
         "5",
         "Detached",
         "421.4"
        ],
        [
         "47",
         "1579733",
         "Teasdale",
         "361171",
         "2020-08-31",
         "11.0",
         "5",
         "Detached",
         "425.8"
        ],
        [
         "48",
         "1524267",
         "Poppleton",
         "232195",
         "2021-11-07",
         "5.0",
         "4",
         "Detached",
         "383.8"
        ],
        [
         "49",
         "1477266",
         "Silvertown",
         "192310",
         "2021-08-19",
         "6.0",
         "3",
         "Detached",
         "276.0"
        ]
       ],
       "shape": {
        "columns": 8,
        "rows": 1200
       }
      },
      "text/html": [
       "<div>\n",
       "<style scoped>\n",
       "    .dataframe tbody tr th:only-of-type {\n",
       "        vertical-align: middle;\n",
       "    }\n",
       "\n",
       "    .dataframe tbody tr th {\n",
       "        vertical-align: top;\n",
       "    }\n",
       "\n",
       "    .dataframe thead th {\n",
       "        text-align: right;\n",
       "    }\n",
       "</style>\n",
       "<table border=\"1\" class=\"dataframe\">\n",
       "  <thead>\n",
       "    <tr style=\"text-align: right;\">\n",
       "      <th></th>\n",
       "      <th>house_id</th>\n",
       "      <th>city</th>\n",
       "      <th>sale_price</th>\n",
       "      <th>sale_date</th>\n",
       "      <th>months_listed</th>\n",
       "      <th>bedrooms</th>\n",
       "      <th>house_type</th>\n",
       "      <th>area</th>\n",
       "    </tr>\n",
       "  </thead>\n",
       "  <tbody>\n",
       "    <tr>\n",
       "      <th>0</th>\n",
       "      <td>1634561</td>\n",
       "      <td>Teasdale</td>\n",
       "      <td>401869</td>\n",
       "      <td>2021-12-14</td>\n",
       "      <td>7.0</td>\n",
       "      <td>6</td>\n",
       "      <td>Detached</td>\n",
       "      <td>519.7</td>\n",
       "    </tr>\n",
       "    <tr>\n",
       "      <th>1</th>\n",
       "      <td>1009770</td>\n",
       "      <td>Silvertown</td>\n",
       "      <td>372387</td>\n",
       "      <td>2022-09-11</td>\n",
       "      <td>8.1</td>\n",
       "      <td>6</td>\n",
       "      <td>Detached</td>\n",
       "      <td>507.8</td>\n",
       "    </tr>\n",
       "    <tr>\n",
       "      <th>2</th>\n",
       "      <td>1946667</td>\n",
       "      <td>Silvertown</td>\n",
       "      <td>325473</td>\n",
       "      <td>2020-08-19</td>\n",
       "      <td>5.4</td>\n",
       "      <td>5</td>\n",
       "      <td>Detached</td>\n",
       "      <td>466.8</td>\n",
       "    </tr>\n",
       "    <tr>\n",
       "      <th>3</th>\n",
       "      <td>1798290</td>\n",
       "      <td>Silvertown</td>\n",
       "      <td>349469</td>\n",
       "      <td>2022-12-10</td>\n",
       "      <td>6.4</td>\n",
       "      <td>5</td>\n",
       "      <td>Detached</td>\n",
       "      <td>499.4</td>\n",
       "    </tr>\n",
       "    <tr>\n",
       "      <th>4</th>\n",
       "      <td>1533461</td>\n",
       "      <td>Poppleton</td>\n",
       "      <td>199995</td>\n",
       "      <td>2020-04-07</td>\n",
       "      <td>4.3</td>\n",
       "      <td>4</td>\n",
       "      <td>Detached</td>\n",
       "      <td>335.0</td>\n",
       "    </tr>\n",
       "    <tr>\n",
       "      <th>...</th>\n",
       "      <td>...</td>\n",
       "      <td>...</td>\n",
       "      <td>...</td>\n",
       "      <td>...</td>\n",
       "      <td>...</td>\n",
       "      <td>...</td>\n",
       "      <td>...</td>\n",
       "      <td>...</td>\n",
       "    </tr>\n",
       "    <tr>\n",
       "      <th>1195</th>\n",
       "      <td>1598212</td>\n",
       "      <td>Teasdale</td>\n",
       "      <td>241139</td>\n",
       "      <td>2022-07-11</td>\n",
       "      <td>5.2</td>\n",
       "      <td>3</td>\n",
       "      <td>Detached</td>\n",
       "      <td>293.4</td>\n",
       "    </tr>\n",
       "    <tr>\n",
       "      <th>1196</th>\n",
       "      <td>1549200</td>\n",
       "      <td>Poppleton</td>\n",
       "      <td>255873</td>\n",
       "      <td>2020-01-17</td>\n",
       "      <td>8.8</td>\n",
       "      <td>5</td>\n",
       "      <td>Detached</td>\n",
       "      <td>407.8</td>\n",
       "    </tr>\n",
       "    <tr>\n",
       "      <th>1197</th>\n",
       "      <td>1919273</td>\n",
       "      <td>Silvertown</td>\n",
       "      <td>298012</td>\n",
       "      <td>2020-08-05</td>\n",
       "      <td>9.1</td>\n",
       "      <td>5</td>\n",
       "      <td>Detached</td>\n",
       "      <td>429.5</td>\n",
       "    </tr>\n",
       "    <tr>\n",
       "      <th>1198</th>\n",
       "      <td>1512003</td>\n",
       "      <td>Silvertown</td>\n",
       "      <td>280859</td>\n",
       "      <td>2022-12-21</td>\n",
       "      <td>6.1</td>\n",
       "      <td>4</td>\n",
       "      <td>Detached</td>\n",
       "      <td>369.3</td>\n",
       "    </tr>\n",
       "    <tr>\n",
       "      <th>1199</th>\n",
       "      <td>1452168</td>\n",
       "      <td>Poppleton</td>\n",
       "      <td>258418</td>\n",
       "      <td>2020-02-24</td>\n",
       "      <td>7.6</td>\n",
       "      <td>5</td>\n",
       "      <td>Detached</td>\n",
       "      <td>417.2</td>\n",
       "    </tr>\n",
       "  </tbody>\n",
       "</table>\n",
       "<p>1200 rows × 8 columns</p>\n",
       "</div>"
      ],
      "text/plain": [
       "      house_id        city  sale_price   sale_date  months_listed  bedrooms  \\\n",
       "0      1634561    Teasdale      401869  2021-12-14            7.0         6   \n",
       "1      1009770  Silvertown      372387  2022-09-11            8.1         6   \n",
       "2      1946667  Silvertown      325473  2020-08-19            5.4         5   \n",
       "3      1798290  Silvertown      349469  2022-12-10            6.4         5   \n",
       "4      1533461   Poppleton      199995  2020-04-07            4.3         4   \n",
       "...        ...         ...         ...         ...            ...       ...   \n",
       "1195   1598212    Teasdale      241139  2022-07-11            5.2         3   \n",
       "1196   1549200   Poppleton      255873  2020-01-17            8.8         5   \n",
       "1197   1919273  Silvertown      298012  2020-08-05            9.1         5   \n",
       "1198   1512003  Silvertown      280859  2022-12-21            6.1         4   \n",
       "1199   1452168   Poppleton      258418  2020-02-24            7.6         5   \n",
       "\n",
       "     house_type   area  \n",
       "0      Detached  519.7  \n",
       "1      Detached  507.8  \n",
       "2      Detached  466.8  \n",
       "3      Detached  499.4  \n",
       "4      Detached  335.0  \n",
       "...         ...    ...  \n",
       "1195   Detached  293.4  \n",
       "1196   Detached  407.8  \n",
       "1197   Detached  429.5  \n",
       "1198   Detached  369.3  \n",
       "1199   Detached  417.2  \n",
       "\n",
       "[1200 rows x 8 columns]"
      ]
     },
     "execution_count": 34,
     "metadata": {},
     "output_type": "execute_result"
    }
   ],
   "source": [
    "df_train = pd.read_csv('/home/jefferssonds/Documentos/VSC/DSA_DATACAMP-20250806T020709Z-1-001/DSA_DATACAMP/certificado_examen/data/train (1).csv')\n",
    "df_train"
   ]
  },
  {
   "cell_type": "code",
   "execution_count": 59,
   "id": "54811f40",
   "metadata": {},
   "outputs": [],
   "source": [
    "def preprocesamiento(data):\n",
    "    if 'sale_price' in data.columns:\n",
    "        X= data.drop(['house_id','sale_price','sale_date'], axis=1)\n",
    "    else:\n",
    "        X= data.drop(['house_id','sale_date'], axis=1)\n",
    "\n",
    "    # Variables categoricas ordinales\n",
    "    from sklearn.preprocessing import OrdinalEncoder,LabelEncoder\n",
    "    ordinal_cols = ['house_type']\n",
    "    encoder = OrdinalEncoder()\n",
    "    X[ordinal_cols] = encoder.fit_transform(X[ordinal_cols])\n",
    "    \n",
    "    # Variables categoricas nominales\n",
    "    encoder = LabelEncoder()\n",
    "    X['city'] = encoder.fit_transform(X['city'])\n",
    "    \n",
    "    # Estandarizacion de variables numericas\n",
    "    from sklearn.preprocessing import StandardScaler\n",
    "    \n",
    "    sc = StandardScaler()\n",
    "    X = pd.DataFrame(sc.fit_transform(X), columns=X.columns)\n",
    "    return X\n"
   ]
  },
  {
   "cell_type": "code",
   "execution_count": 84,
   "id": "ad5d7915",
   "metadata": {},
   "outputs": [
    {
     "data": {
      "application/vnd.microsoft.datawrangler.viewer.v0+json": {
       "columns": [
        {
         "name": "index",
         "rawType": "int64",
         "type": "integer"
        },
        {
         "name": "house_id",
         "rawType": "int64",
         "type": "integer"
        },
        {
         "name": "price",
         "rawType": "float64",
         "type": "float"
        }
       ],
       "ref": "8f9f8780-cf71-4a0c-ba84-38e3d64793c7",
       "rows": [
        [
         "0",
         "1331375",
         "103385.46319127006"
        ],
        [
         "1",
         "1630115",
         "291868.7101286154"
        ],
        [
         "2",
         "1645745",
         "379786.1871313213"
        ],
        [
         "3",
         "1336775",
         "113279.86330302524"
        ],
        [
         "4",
         "1888274",
         "265404.0466314038"
        ],
        [
         "5",
         "1567679",
         "264217.970656697"
        ],
        [
         "6",
         "1298770",
         "325653.9128900616"
        ],
        [
         "7",
         "1662892",
         "15304.520830055553"
        ],
        [
         "8",
         "1514321",
         "148875.20203218717"
        ],
        [
         "9",
         "1795371",
         "205928.8081827193"
        ],
        [
         "10",
         "1872688",
         "210155.50549640262"
        ],
        [
         "11",
         "1115697",
         "123537.57686172609"
        ],
        [
         "12",
         "1752850",
         "347850.98037137813"
        ],
        [
         "13",
         "1298746",
         "338986.6076756936"
        ],
        [
         "14",
         "1464795",
         "174691.5491011172"
        ],
        [
         "15",
         "1982802",
         "146143.76661504194"
        ],
        [
         "16",
         "1823033",
         "225351.9689553583"
        ],
        [
         "17",
         "1585193",
         "126336.05689622473"
        ],
        [
         "18",
         "1843329",
         "327585.9669379083"
        ],
        [
         "19",
         "1424530",
         "24450.40741024958"
        ],
        [
         "20",
         "1040934",
         "376785.3818100718"
        ],
        [
         "21",
         "1483696",
         "350095.81160285877"
        ],
        [
         "22",
         "1436940",
         "349211.4267927747"
        ],
        [
         "23",
         "1608175",
         "22356.022022336954"
        ],
        [
         "24",
         "1902237",
         "155379.48865499362"
        ],
        [
         "25",
         "1563689",
         "277479.94904356526"
        ],
        [
         "26",
         "1976354",
         "236871.97247109114"
        ],
        [
         "27",
         "1872940",
         "320113.3797620684"
        ],
        [
         "28",
         "1704427",
         "329198.4755784144"
        ],
        [
         "29",
         "1131878",
         "321536.68706494477"
        ],
        [
         "30",
         "1803015",
         "44341.66995392827"
        ],
        [
         "31",
         "1897548",
         "187001.29913385375"
        ],
        [
         "32",
         "1739654",
         "167716.4717499154"
        ],
        [
         "33",
         "1658430",
         "196710.6816438529"
        ],
        [
         "34",
         "1282370",
         "166590.56729507394"
        ],
        [
         "35",
         "1512890",
         "60775.36731062291"
        ],
        [
         "36",
         "1597534",
         "126609.89820575948"
        ],
        [
         "37",
         "1174073",
         "272536.9866260461"
        ],
        [
         "38",
         "1179366",
         "393423.33809598023"
        ],
        [
         "39",
         "1757117",
         "67353.1322335334"
        ],
        [
         "40",
         "1148656",
         "115057.64867803916"
        ],
        [
         "41",
         "1776320",
         "361435.3739072391"
        ],
        [
         "42",
         "1155319",
         "240701.68904210048"
        ],
        [
         "43",
         "1675362",
         "177380.6645323099"
        ],
        [
         "44",
         "1748129",
         "47428.38548296911"
        ],
        [
         "45",
         "1648926",
         "255003.40860972155"
        ],
        [
         "46",
         "1050783",
         "58748.75036476055"
        ],
        [
         "47",
         "1843278",
         "338756.8683959275"
        ],
        [
         "48",
         "1372090",
         "234395.25915595298"
        ],
        [
         "49",
         "1583730",
         "368599.39656324306"
        ]
       ],
       "shape": {
        "columns": 2,
        "rows": 300
       }
      },
      "text/html": [
       "<div>\n",
       "<style scoped>\n",
       "    .dataframe tbody tr th:only-of-type {\n",
       "        vertical-align: middle;\n",
       "    }\n",
       "\n",
       "    .dataframe tbody tr th {\n",
       "        vertical-align: top;\n",
       "    }\n",
       "\n",
       "    .dataframe thead th {\n",
       "        text-align: right;\n",
       "    }\n",
       "</style>\n",
       "<table border=\"1\" class=\"dataframe\">\n",
       "  <thead>\n",
       "    <tr style=\"text-align: right;\">\n",
       "      <th></th>\n",
       "      <th>house_id</th>\n",
       "      <th>price</th>\n",
       "    </tr>\n",
       "  </thead>\n",
       "  <tbody>\n",
       "    <tr>\n",
       "      <th>0</th>\n",
       "      <td>1331375</td>\n",
       "      <td>103385.463191</td>\n",
       "    </tr>\n",
       "    <tr>\n",
       "      <th>1</th>\n",
       "      <td>1630115</td>\n",
       "      <td>291868.710129</td>\n",
       "    </tr>\n",
       "    <tr>\n",
       "      <th>2</th>\n",
       "      <td>1645745</td>\n",
       "      <td>379786.187131</td>\n",
       "    </tr>\n",
       "    <tr>\n",
       "      <th>3</th>\n",
       "      <td>1336775</td>\n",
       "      <td>113279.863303</td>\n",
       "    </tr>\n",
       "    <tr>\n",
       "      <th>4</th>\n",
       "      <td>1888274</td>\n",
       "      <td>265404.046631</td>\n",
       "    </tr>\n",
       "    <tr>\n",
       "      <th>...</th>\n",
       "      <td>...</td>\n",
       "      <td>...</td>\n",
       "    </tr>\n",
       "    <tr>\n",
       "      <th>295</th>\n",
       "      <td>1986255</td>\n",
       "      <td>346026.071919</td>\n",
       "    </tr>\n",
       "    <tr>\n",
       "      <th>296</th>\n",
       "      <td>1896276</td>\n",
       "      <td>365247.419324</td>\n",
       "    </tr>\n",
       "    <tr>\n",
       "      <th>297</th>\n",
       "      <td>1758223</td>\n",
       "      <td>253842.417880</td>\n",
       "    </tr>\n",
       "    <tr>\n",
       "      <th>298</th>\n",
       "      <td>1752010</td>\n",
       "      <td>147512.973163</td>\n",
       "    </tr>\n",
       "    <tr>\n",
       "      <th>299</th>\n",
       "      <td>1651404</td>\n",
       "      <td>379331.180381</td>\n",
       "    </tr>\n",
       "  </tbody>\n",
       "</table>\n",
       "<p>300 rows × 2 columns</p>\n",
       "</div>"
      ],
      "text/plain": [
       "     house_id          price\n",
       "0     1331375  103385.463191\n",
       "1     1630115  291868.710129\n",
       "2     1645745  379786.187131\n",
       "3     1336775  113279.863303\n",
       "4     1888274  265404.046631\n",
       "..        ...            ...\n",
       "295   1986255  346026.071919\n",
       "296   1896276  365247.419324\n",
       "297   1758223  253842.417880\n",
       "298   1752010  147512.973163\n",
       "299   1651404  379331.180381\n",
       "\n",
       "[300 rows x 2 columns]"
      ]
     },
     "execution_count": 84,
     "metadata": {},
     "output_type": "execute_result"
    }
   ],
   "source": [
    "\n",
    "# Definimos X e y para entrenamiento\n",
    "y = df_train['sale_price']\n",
    "X = preprocesamiento(df_train)\n",
    "\n",
    "# Entrenamos modelo base (Linear Regression)\n",
    "from sklearn.linear_model import LinearRegression\n",
    "\n",
    "base_model = LinearRegression()\n",
    "base_model.fit(X, y)\n",
    "\n",
    "# Preprocesamos validación\n",
    "X_val = preprocesamiento(df_validacion)\n",
    "\n",
    "# Predicciones\n",
    "y_pred_val = base_model.predict(X_val)\n",
    "\n",
    "# Resultado final requerido\n",
    "base_result = pd.DataFrame({\n",
    "    'house_id': df_validacion['house_id'],\n",
    "    'price': y_pred_val\n",
    "})\n",
    "base_result\n"
   ]
  },
  {
   "cell_type": "markdown",
   "id": "94e54f77",
   "metadata": {},
   "source": [
    "\n",
    "---\n",
    "\n",
    "# Tarea 5\n",
    "\n",
    "Ajusta un **modelo de comparación** para predecir el precio de venta de una casa.\n",
    "\n",
    "1. Ajusta tu modelo usando los datos contenidos en **“train.csv”**. </br></br>\n",
    "2. Usa **“validation.csv”** para predecir nuevos valores basados en tu modelo. Debes devolver un **dataframe** llamado **`compare_result`**, que incluya las columnas **`house_id`** y **`price`**. La columna **`price`** debe contener tus valores predichos.\n",
    "\n",
    "---\n"
   ]
  },
  {
   "cell_type": "code",
   "execution_count": 85,
   "id": "f67b0936",
   "metadata": {},
   "outputs": [
    {
     "data": {
      "application/vnd.microsoft.datawrangler.viewer.v0+json": {
       "columns": [
        {
         "name": "index",
         "rawType": "int64",
         "type": "integer"
        },
        {
         "name": "house_id",
         "rawType": "int64",
         "type": "integer"
        },
        {
         "name": "price",
         "rawType": "float64",
         "type": "float"
        }
       ],
       "ref": "99775e7c-7516-4602-b5e7-a6e02422821d",
       "rows": [
        [
         "0",
         "1331375",
         "83567.78260869565"
        ],
        [
         "1",
         "1630115",
         "268259.6341463415"
        ],
        [
         "2",
         "1645745",
         "398565.7301587302"
        ],
        [
         "3",
         "1336775",
         "113348.36363636363"
        ],
        [
         "4",
         "1888274",
         "243976.0"
        ],
        [
         "5",
         "1567679",
         "268259.6341463415"
        ],
        [
         "6",
         "1298770",
         "334910.59154929576"
        ],
        [
         "7",
         "1662892",
         "53626.51282051282"
        ],
        [
         "8",
         "1514321",
         "152384.93548387097"
        ],
        [
         "9",
         "1795371",
         "202011.78048780488"
        ],
        [
         "10",
         "1872688",
         "202011.78048780488"
        ],
        [
         "11",
         "1115697",
         "131060.9"
        ],
        [
         "12",
         "1752850",
         "373429.2727272727"
        ],
        [
         "13",
         "1298746",
         "373429.2727272727"
        ],
        [
         "14",
         "1464795",
         "210993.7358490566"
        ],
        [
         "15",
         "1982802",
         "152384.93548387097"
        ],
        [
         "16",
         "1823033",
         "230607.14814814815"
        ],
        [
         "17",
         "1585193",
         "113348.36363636363"
        ],
        [
         "18",
         "1843329",
         "330829.28571428574"
        ],
        [
         "19",
         "1424530",
         "41626.64705882353"
        ],
        [
         "20",
         "1040934",
         "373429.2727272727"
        ],
        [
         "21",
         "1483696",
         "373429.2727272727"
        ],
        [
         "22",
         "1436940",
         "250185.77777777778"
        ],
        [
         "23",
         "1608175",
         "41626.64705882353"
        ],
        [
         "24",
         "1902237",
         "172896.15789473685"
        ],
        [
         "25",
         "1563689",
         "277421.2272727273"
        ],
        [
         "26",
         "1976354",
         "198188.62962962964"
        ],
        [
         "27",
         "1872940",
         "334910.59154929576"
        ],
        [
         "28",
         "1704427",
         "330829.28571428574"
        ],
        [
         "29",
         "1131878",
         "334910.59154929576"
        ],
        [
         "30",
         "1803015",
         "41626.64705882353"
        ],
        [
         "31",
         "1897548",
         "184352.5588235294"
        ],
        [
         "32",
         "1739654",
         "153425.875"
        ],
        [
         "33",
         "1658430",
         "202011.78048780488"
        ],
        [
         "34",
         "1282370",
         "153425.875"
        ],
        [
         "35",
         "1512890",
         "53626.51282051282"
        ],
        [
         "36",
         "1597534",
         "113348.36363636363"
        ],
        [
         "37",
         "1174073",
         "268259.6341463415"
        ],
        [
         "38",
         "1179366",
         "442982.8"
        ],
        [
         "39",
         "1757117",
         "83533.72413793103"
        ],
        [
         "40",
         "1148656",
         "77430.58108108108"
        ],
        [
         "41",
         "1776320",
         "373429.2727272727"
        ],
        [
         "42",
         "1155319",
         "251292.3142857143"
        ],
        [
         "43",
         "1675362",
         "210993.7358490566"
        ],
        [
         "44",
         "1748129",
         "53626.51282051282"
        ],
        [
         "45",
         "1648926",
         "268259.6341463415"
        ],
        [
         "46",
         "1050783",
         "65713.775"
        ],
        [
         "47",
         "1843278",
         "250185.77777777778"
        ],
        [
         "48",
         "1372090",
         "230607.14814814815"
        ],
        [
         "49",
         "1583730",
         "398565.7301587302"
        ]
       ],
       "shape": {
        "columns": 2,
        "rows": 300
       }
      },
      "text/html": [
       "<div>\n",
       "<style scoped>\n",
       "    .dataframe tbody tr th:only-of-type {\n",
       "        vertical-align: middle;\n",
       "    }\n",
       "\n",
       "    .dataframe tbody tr th {\n",
       "        vertical-align: top;\n",
       "    }\n",
       "\n",
       "    .dataframe thead th {\n",
       "        text-align: right;\n",
       "    }\n",
       "</style>\n",
       "<table border=\"1\" class=\"dataframe\">\n",
       "  <thead>\n",
       "    <tr style=\"text-align: right;\">\n",
       "      <th></th>\n",
       "      <th>house_id</th>\n",
       "      <th>price</th>\n",
       "    </tr>\n",
       "  </thead>\n",
       "  <tbody>\n",
       "    <tr>\n",
       "      <th>0</th>\n",
       "      <td>1331375</td>\n",
       "      <td>83567.782609</td>\n",
       "    </tr>\n",
       "    <tr>\n",
       "      <th>1</th>\n",
       "      <td>1630115</td>\n",
       "      <td>268259.634146</td>\n",
       "    </tr>\n",
       "    <tr>\n",
       "      <th>2</th>\n",
       "      <td>1645745</td>\n",
       "      <td>398565.730159</td>\n",
       "    </tr>\n",
       "    <tr>\n",
       "      <th>3</th>\n",
       "      <td>1336775</td>\n",
       "      <td>113348.363636</td>\n",
       "    </tr>\n",
       "    <tr>\n",
       "      <th>4</th>\n",
       "      <td>1888274</td>\n",
       "      <td>243976.000000</td>\n",
       "    </tr>\n",
       "    <tr>\n",
       "      <th>...</th>\n",
       "      <td>...</td>\n",
       "      <td>...</td>\n",
       "    </tr>\n",
       "    <tr>\n",
       "      <th>295</th>\n",
       "      <td>1986255</td>\n",
       "      <td>334910.591549</td>\n",
       "    </tr>\n",
       "    <tr>\n",
       "      <th>296</th>\n",
       "      <td>1896276</td>\n",
       "      <td>398565.730159</td>\n",
       "    </tr>\n",
       "    <tr>\n",
       "      <th>297</th>\n",
       "      <td>1758223</td>\n",
       "      <td>243976.000000</td>\n",
       "    </tr>\n",
       "    <tr>\n",
       "      <th>298</th>\n",
       "      <td>1752010</td>\n",
       "      <td>152384.935484</td>\n",
       "    </tr>\n",
       "    <tr>\n",
       "      <th>299</th>\n",
       "      <td>1651404</td>\n",
       "      <td>373429.272727</td>\n",
       "    </tr>\n",
       "  </tbody>\n",
       "</table>\n",
       "<p>300 rows × 2 columns</p>\n",
       "</div>"
      ],
      "text/plain": [
       "     house_id          price\n",
       "0     1331375   83567.782609\n",
       "1     1630115  268259.634146\n",
       "2     1645745  398565.730159\n",
       "3     1336775  113348.363636\n",
       "4     1888274  243976.000000\n",
       "..        ...            ...\n",
       "295   1986255  334910.591549\n",
       "296   1896276  398565.730159\n",
       "297   1758223  243976.000000\n",
       "298   1752010  152384.935484\n",
       "299   1651404  373429.272727\n",
       "\n",
       "[300 rows x 2 columns]"
      ]
     },
     "execution_count": 85,
     "metadata": {},
     "output_type": "execute_result"
    }
   ],
   "source": [
    "\n",
    "\n",
    "from sklearn.tree import DecisionTreeRegressor\n",
    "\n",
    "compare_model = DecisionTreeRegressor(\n",
    "    max_depth=5, \n",
    "    min_samples_split=10, \n",
    "    min_samples_leaf=5,\n",
    "    random_state=42\n",
    ")\n",
    "\n",
    "compare_model.fit(X, y)\n",
    "\n",
    "# Predicciones\n",
    "y_pred_val_compare = compare_model.predict(X_val)\n",
    "\n",
    "# Resultado final requerido\n",
    "compare_result = pd.DataFrame({\n",
    "    'house_id': df_validacion['house_id'],\n",
    "    'price': y_pred_val_compare\n",
    "})\n",
    "compare_result\n"
   ]
  }
 ],
 "metadata": {
  "kernelspec": {
   "display_name": "Python 3",
   "language": "python",
   "name": "python3"
  },
  "language_info": {
   "codemirror_mode": {
    "name": "ipython",
    "version": 3
   },
   "file_extension": ".py",
   "mimetype": "text/x-python",
   "name": "python",
   "nbconvert_exporter": "python",
   "pygments_lexer": "ipython3",
   "version": "3.12.11"
  }
 },
 "nbformat": 4,
 "nbformat_minor": 5
}
